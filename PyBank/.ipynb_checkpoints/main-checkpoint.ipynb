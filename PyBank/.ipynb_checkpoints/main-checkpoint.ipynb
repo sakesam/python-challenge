{
 "cells": [
  {
   "cell_type": "code",
   "execution_count": 41,
   "id": "fe7a1182-f6cd-4c5e-9b90-ccb9234292fe",
   "metadata": {},
   "outputs": [],
   "source": [
    "#PyBank's variables\n",
    "months = []\n",
    "profit_loss_changes = []\n",
    "\n",
    "count_months = 0\n",
    "net_profit_loss = 0\n",
    "previous_month_profit_loss = 0\n",
    "current_month_profit_loss = 0\n",
    "profit_loss_change = 0"
   ]
  },
  {
   "cell_type": "code",
   "execution_count": 44,
   "id": "92ca4236-7db0-4221-ab69-b9f5015c9fd2",
   "metadata": {},
   "outputs": [],
   "source": [
    "import pandas as pd\n",
    "from pathlib import Path"
   ]
  },
  {
   "cell_type": "code",
   "execution_count": 45,
   "id": "73e06860-08a2-418b-9530-b51e75b9997d",
   "metadata": {},
   "outputs": [],
   "source": [
    "csvpath = Path(\"budget_data.csv\")"
   ]
  },
  {
   "cell_type": "code",
   "execution_count": 47,
   "id": "dabfbb2c-7dd3-4bd6-b2ce-c0638e719fd9",
   "metadata": {},
   "outputs": [
    {
     "data": {
      "text/html": [
       "<div>\n",
       "<style scoped>\n",
       "    .dataframe tbody tr th:only-of-type {\n",
       "        vertical-align: middle;\n",
       "    }\n",
       "\n",
       "    .dataframe tbody tr th {\n",
       "        vertical-align: top;\n",
       "    }\n",
       "\n",
       "    .dataframe thead th {\n",
       "        text-align: right;\n",
       "    }\n",
       "</style>\n",
       "<table border=\"1\" class=\"dataframe\">\n",
       "  <thead>\n",
       "    <tr style=\"text-align: right;\">\n",
       "      <th></th>\n",
       "      <th>Date</th>\n",
       "      <th>Profit/Losses</th>\n",
       "    </tr>\n",
       "  </thead>\n",
       "  <tbody>\n",
       "  </tbody>\n",
       "</table>\n",
       "</div>"
      ],
      "text/plain": [
       "Empty DataFrame\n",
       "Columns: [Date, Profit/Losses]\n",
       "Index: []"
      ]
     },
     "execution_count": 47,
     "metadata": {},
     "output_type": "execute_result"
    }
   ],
   "source": [
    "budget_data = pd.read_csv(csvpath)\n",
    "budget_data.head(0)"
   ]
  },
  {
   "cell_type": "code",
   "execution_count": 50,
   "id": "2ede9533-d6a1-4d15-b974-5e8324c15148",
   "metadata": {},
   "outputs": [],
   "source": [
    "count_months += 1"
   ]
  },
  {
   "cell_type": "code",
   "execution_count": 66,
   "id": "fda689b6-71ac-4e64-a787-dc65a3791846",
   "metadata": {},
   "outputs": [
    {
     "ename": "SyntaxError",
     "evalue": "unexpected EOF while parsing (2450051649.py, line 6)",
     "output_type": "error",
     "traceback": [
      "\u001b[1;36m  File \u001b[1;32m\"C:\\Users\\sakes\\AppData\\Local\\Temp\\ipykernel_18184\\2450051649.py\"\u001b[1;36m, line \u001b[1;32m6\u001b[0m\n\u001b[1;33m    else:\u001b[0m\n\u001b[1;37m         ^\u001b[0m\n\u001b[1;31mSyntaxError\u001b[0m\u001b[1;31m:\u001b[0m unexpected EOF while parsing\n"
     ]
    }
   ],
   "source": [
    "current_month_profit_loss = int(row[1])\n",
    "net_profit_loss += current_month_profit_loss\n",
    "if (count_months == 1):\n",
    "            previous_month_profit_loss = current_month_profit_loss\n",
    "            continue\n",
    "else:"
   ]
  },
  {
   "cell_type": "code",
   "execution_count": 62,
   "id": "1a485260-2db2-4535-8761-6744e5487ef6",
   "metadata": {},
   "outputs": [],
   "source": [
    "profit_loss_change = current_month_profit_loss - previous_month_profit_loss"
   ]
  },
  {
   "cell_type": "code",
   "execution_count": 63,
   "id": "0c279cee-c3c0-4525-8247-97ce5ffd5a10",
   "metadata": {},
   "outputs": [
    {
     "ename": "NameError",
     "evalue": "name 'row' is not defined",
     "output_type": "error",
     "traceback": [
      "\u001b[1;31m---------------------------------------------------------------------------\u001b[0m",
      "\u001b[1;31mNameError\u001b[0m                                 Traceback (most recent call last)",
      "\u001b[1;32m~\\AppData\\Local\\Temp\\ipykernel_18184\\2871052572.py\u001b[0m in \u001b[0;36m<module>\u001b[1;34m\u001b[0m\n\u001b[1;32m----> 1\u001b[1;33m \u001b[0mmonths\u001b[0m\u001b[1;33m.\u001b[0m\u001b[0mappend\u001b[0m\u001b[1;33m(\u001b[0m\u001b[0mrow\u001b[0m\u001b[1;33m[\u001b[0m\u001b[1;36m0\u001b[0m\u001b[1;33m]\u001b[0m\u001b[1;33m)\u001b[0m\u001b[1;33m\u001b[0m\u001b[1;33m\u001b[0m\u001b[0m\n\u001b[0m",
      "\u001b[1;31mNameError\u001b[0m: name 'row' is not defined"
     ]
    }
   ],
   "source": [
    "months.append(row[0])"
   ]
  },
  {
   "cell_type": "code",
   "execution_count": null,
   "id": "3524bfda-3053-41f6-b7d1-d5666b2e8131",
   "metadata": {},
   "outputs": [],
   "source": [
    "previous_month_profit_loss = current_month_profit_loss"
   ]
  },
  {
   "cell_type": "code",
   "execution_count": null,
   "id": "bb95d57f-7f98-4b7a-8ebf-8e464fe799a4",
   "metadata": {},
   "outputs": [],
   "source": [
    "sum_profit_loss = sum(profit_loss_changes)\n",
    "average_profit_loss = round(sum_profit_loss/(count_months - 1), 2)"
   ]
  },
  {
   "cell_type": "code",
   "execution_count": null,
   "id": "288c130e-360b-4f02-90f0-39dce64c591e",
   "metadata": {},
   "outputs": [],
   "source": [
    "highest_change = max(profit_loss_changes)\n",
    "lowest_change = min(profit_loss_changes)"
   ]
  },
  {
   "cell_type": "code",
   "execution_count": null,
   "id": "89a691c2-b695-4507-b47f-baabf8a6502c",
   "metadata": {},
   "outputs": [],
   "source": [
    "highest_month_index = profit_loss_changes.index(highest_change)\n",
    "lowest_month_index = profit_loss_changes.index(lowest_change)"
   ]
  },
  {
   "cell_type": "code",
   "execution_count": null,
   "id": "f46c57ba-a62a-49c5-b187-5fe7aac4dc5e",
   "metadata": {},
   "outputs": [],
   "source": [
    "best_month = months[highest_month_index]\n",
    "worst_month = months[lowest_month_index]"
   ]
  },
  {
   "cell_type": "code",
   "execution_count": 58,
   "id": "a6626182-99a1-48ff-b01f-6ac997d3402a",
   "metadata": {},
   "outputs": [
    {
     "name": "stdout",
     "output_type": "stream",
     "text": [
      "Financial Analysis\n",
      "----------------------------\n",
      "Total Months:  1\n",
      "Total:  $0\n"
     ]
    },
    {
     "ename": "NameError",
     "evalue": "name 'average_profit_loss' is not defined",
     "output_type": "error",
     "traceback": [
      "\u001b[1;31m---------------------------------------------------------------------------\u001b[0m",
      "\u001b[1;31mNameError\u001b[0m                                 Traceback (most recent call last)",
      "\u001b[1;32m~\\AppData\\Local\\Temp\\ipykernel_18184\\3584605342.py\u001b[0m in \u001b[0;36m<module>\u001b[1;34m\u001b[0m\n\u001b[0;32m      3\u001b[0m \u001b[0mprint\u001b[0m\u001b[1;33m(\u001b[0m\u001b[1;34mf\"Total Months:  {count_months}\"\u001b[0m\u001b[1;33m)\u001b[0m\u001b[1;33m\u001b[0m\u001b[1;33m\u001b[0m\u001b[0m\n\u001b[0;32m      4\u001b[0m \u001b[0mprint\u001b[0m\u001b[1;33m(\u001b[0m\u001b[1;34mf\"Total:  ${net_profit_loss}\"\u001b[0m\u001b[1;33m)\u001b[0m\u001b[1;33m\u001b[0m\u001b[1;33m\u001b[0m\u001b[0m\n\u001b[1;32m----> 5\u001b[1;33m \u001b[0mprint\u001b[0m\u001b[1;33m(\u001b[0m\u001b[1;34mf\"Average Change:  ${average_profit_loss}\"\u001b[0m\u001b[1;33m)\u001b[0m\u001b[1;33m\u001b[0m\u001b[1;33m\u001b[0m\u001b[0m\n\u001b[0m\u001b[0;32m      6\u001b[0m \u001b[0mprint\u001b[0m\u001b[1;33m(\u001b[0m\u001b[1;34mf\"Greatest Increase in Profits:  {best_month} (${highest_change})\"\u001b[0m\u001b[1;33m)\u001b[0m\u001b[1;33m\u001b[0m\u001b[1;33m\u001b[0m\u001b[0m\n\u001b[0;32m      7\u001b[0m \u001b[0mprint\u001b[0m\u001b[1;33m(\u001b[0m\u001b[1;34mf\"Greatest Decrease in Losses:  {worst_month} (${lowest_change})\"\u001b[0m\u001b[1;33m)\u001b[0m\u001b[1;33m\u001b[0m\u001b[1;33m\u001b[0m\u001b[0m\n",
      "\u001b[1;31mNameError\u001b[0m: name 'average_profit_loss' is not defined"
     ]
    }
   ],
   "source": [
    "print(\"Financial Analysis\")\n",
    "print(\"----------------------------\")\n",
    "print(f\"Total Months:  {count_months}\")\n",
    "print(f\"Total:  ${net_profit_loss}\")\n",
    "print(f\"Average Change:  ${average_profit_loss}\")\n",
    "print(f\"Greatest Increase in Profits:  {best_month} (${highest_change})\")\n",
    "print(f\"Greatest Decrease in Losses:  {worst_month} (${lowest_change})\")"
   ]
  },
  {
   "cell_type": "code",
   "execution_count": null,
   "id": "20e20a2d-0d9d-4b79-a899-b9b7caa59fa6",
   "metadata": {},
   "outputs": [],
   "source": [
    "budget_file = os.path.join(\"Output\", \"budget_data.txt\")\n",
    "with open(budget_file, \"w\") as outfile:\n",
    "\n",
    "    outfile.write(\"Financial Analysis\\n\")\n",
    "    outfile.write(\"----------------------------\\n\")\n",
    "    outfile.write(f\"Total Months:  {count_months}\\n\")\n",
    "    outfile.write(f\"Total:  ${net_profit_loss}\\n\")\n",
    "    outfile.write(f\"Average Change:  ${average_profit_loss}\\n\")\n",
    "    outfile.write(f\"Greatest Increase in Profits:  {best_month} (${highest_change})\\n\")\n",
    "    outfile.write(f\"Greatest Decrease in Losses:  {worst_month} (${lowest_change})\\n\")"
   ]
  }
 ],
 "metadata": {
  "kernelspec": {
   "display_name": "Python 3 (ipykernel)",
   "language": "python",
   "name": "python3"
  },
  "language_info": {
   "codemirror_mode": {
    "name": "ipython",
    "version": 3
   },
   "file_extension": ".py",
   "mimetype": "text/x-python",
   "name": "python",
   "nbconvert_exporter": "python",
   "pygments_lexer": "ipython3",
   "version": "3.7.13"
  }
 },
 "nbformat": 4,
 "nbformat_minor": 5
}
